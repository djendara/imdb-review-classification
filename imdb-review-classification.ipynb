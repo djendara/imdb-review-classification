{
 "cells": [
  {
   "cell_type": "code",
   "execution_count": 1,
   "id": "b129293a",
   "metadata": {
    "_cell_guid": "b1076dfc-b9ad-4769-8c92-a6c4dae69d19",
    "_uuid": "8f2839f25d086af736a60e9eeb907d3b93b6e0e5",
    "execution": {
     "iopub.execute_input": "2021-12-07T19:37:08.905944Z",
     "iopub.status.busy": "2021-12-07T19:37:08.905134Z",
     "iopub.status.idle": "2021-12-07T19:37:08.908048Z",
     "shell.execute_reply": "2021-12-07T19:37:08.908496Z",
     "shell.execute_reply.started": "2021-12-07T18:48:11.856374Z"
    },
    "papermill": {
     "duration": 0.049831,
     "end_time": "2021-12-07T19:37:08.908706",
     "exception": false,
     "start_time": "2021-12-07T19:37:08.858875",
     "status": "completed"
    },
    "tags": []
   },
   "outputs": [],
   "source": [
    "import numpy as np # linear algebra\n",
    "import pandas as pd # data processing, CSV file I/O (e.g. pd.read_csv)"
   ]
  },
  {
   "cell_type": "code",
   "execution_count": 2,
   "id": "561e0924",
   "metadata": {
    "execution": {
     "iopub.execute_input": "2021-12-07T19:37:08.956785Z",
     "iopub.status.busy": "2021-12-07T19:37:08.956248Z",
     "iopub.status.idle": "2021-12-07T19:37:10.559300Z",
     "shell.execute_reply": "2021-12-07T19:37:10.558735Z",
     "shell.execute_reply.started": "2021-12-07T18:48:11.887432Z"
    },
    "papermill": {
     "duration": 1.628158,
     "end_time": "2021-12-07T19:37:10.559444",
     "exception": false,
     "start_time": "2021-12-07T19:37:08.931286",
     "status": "completed"
    },
    "tags": []
   },
   "outputs": [],
   "source": [
    "df = pd.read_csv('../input/imdb-dataset-of-50k-movie-reviews/IMDB Dataset.csv')"
   ]
  },
  {
   "cell_type": "code",
   "execution_count": 3,
   "id": "6a8fc7c4",
   "metadata": {
    "execution": {
     "iopub.execute_input": "2021-12-07T19:37:10.612732Z",
     "iopub.status.busy": "2021-12-07T19:37:10.611942Z",
     "iopub.status.idle": "2021-12-07T19:37:10.615149Z",
     "shell.execute_reply": "2021-12-07T19:37:10.615574Z",
     "shell.execute_reply.started": "2021-12-07T18:48:13.141858Z"
    },
    "papermill": {
     "duration": 0.032532,
     "end_time": "2021-12-07T19:37:10.615698",
     "exception": false,
     "start_time": "2021-12-07T19:37:10.583166",
     "status": "completed"
    },
    "tags": []
   },
   "outputs": [
    {
     "data": {
      "text/plain": [
       "(50000, 2)"
      ]
     },
     "execution_count": 3,
     "metadata": {},
     "output_type": "execute_result"
    }
   ],
   "source": [
    "df.shape"
   ]
  },
  {
   "cell_type": "code",
   "execution_count": 4,
   "id": "2c91d8e7",
   "metadata": {
    "execution": {
     "iopub.execute_input": "2021-12-07T19:37:10.681652Z",
     "iopub.status.busy": "2021-12-07T19:37:10.680917Z",
     "iopub.status.idle": "2021-12-07T19:37:10.697602Z",
     "shell.execute_reply": "2021-12-07T19:37:10.698158Z",
     "shell.execute_reply.started": "2021-12-07T18:48:13.157272Z"
    },
    "papermill": {
     "duration": 0.059958,
     "end_time": "2021-12-07T19:37:10.698303",
     "exception": false,
     "start_time": "2021-12-07T19:37:10.638345",
     "status": "completed"
    },
    "tags": []
   },
   "outputs": [
    {
     "data": {
      "text/plain": [
       "positive    25000\n",
       "negative    25000\n",
       "Name: sentiment, dtype: int64"
      ]
     },
     "execution_count": 4,
     "metadata": {},
     "output_type": "execute_result"
    }
   ],
   "source": [
    "df.sentiment.value_counts()"
   ]
  },
  {
   "cell_type": "code",
   "execution_count": 5,
   "id": "3b087e28",
   "metadata": {
    "execution": {
     "iopub.execute_input": "2021-12-07T19:37:10.804727Z",
     "iopub.status.busy": "2021-12-07T19:37:10.803920Z",
     "iopub.status.idle": "2021-12-07T19:37:10.815065Z",
     "shell.execute_reply": "2021-12-07T19:37:10.816085Z",
     "shell.execute_reply.started": "2021-12-07T18:48:13.179697Z"
    },
    "papermill": {
     "duration": 0.077523,
     "end_time": "2021-12-07T19:37:10.816261",
     "exception": false,
     "start_time": "2021-12-07T19:37:10.738738",
     "status": "completed"
    },
    "tags": []
   },
   "outputs": [
    {
     "data": {
      "text/plain": [
       "review       0\n",
       "sentiment    0\n",
       "dtype: int64"
      ]
     },
     "execution_count": 5,
     "metadata": {},
     "output_type": "execute_result"
    }
   ],
   "source": [
    "df.isna().sum()"
   ]
  },
  {
   "cell_type": "markdown",
   "id": "80d9c2e2",
   "metadata": {
    "papermill": {
     "duration": 0.036219,
     "end_time": "2021-12-07T19:37:10.900606",
     "exception": false,
     "start_time": "2021-12-07T19:37:10.864387",
     "status": "completed"
    },
    "tags": []
   },
   "source": [
    "* clean\n",
    "* lower()\n",
    "* lema or ..\n",
    "* stopword\n"
   ]
  },
  {
   "cell_type": "code",
   "execution_count": 6,
   "id": "a44ad8fd",
   "metadata": {
    "execution": {
     "iopub.execute_input": "2021-12-07T19:37:10.982120Z",
     "iopub.status.busy": "2021-12-07T19:37:10.981361Z",
     "iopub.status.idle": "2021-12-07T19:37:10.984356Z",
     "shell.execute_reply": "2021-12-07T19:37:10.984965Z",
     "shell.execute_reply.started": "2021-12-07T18:48:13.201841Z"
    },
    "papermill": {
     "duration": 0.048015,
     "end_time": "2021-12-07T19:37:10.985136",
     "exception": false,
     "start_time": "2021-12-07T19:37:10.937121",
     "status": "completed"
    },
    "tags": []
   },
   "outputs": [],
   "source": [
    "def simple_transformer(column):\n",
    "    \"\"\"\n",
    "    This transformer will convert any giving categoricol column to numerical\n",
    "    \n",
    "    \"\"\"\n",
    "    # all unique values for column \n",
    "    names = column.value_counts().index\n",
    "    # how size of them\n",
    "    size = len(names)\n",
    "    # create dict value:name / ex: {1:'Focus'}... \n",
    "    replacement = dict(zip(names, range(size)))\n",
    "    # aplly the changes\n",
    "    column.replace(replacement, inplace=True)\n",
    "    return replacement"
   ]
  },
  {
   "cell_type": "code",
   "execution_count": 7,
   "id": "b20908e2",
   "metadata": {
    "execution": {
     "iopub.execute_input": "2021-12-07T19:37:11.075343Z",
     "iopub.status.busy": "2021-12-07T19:37:11.074476Z",
     "iopub.status.idle": "2021-12-07T19:37:11.132803Z",
     "shell.execute_reply": "2021-12-07T19:37:11.133751Z",
     "shell.execute_reply.started": "2021-12-07T18:48:13.209659Z"
    },
    "papermill": {
     "duration": 0.111481,
     "end_time": "2021-12-07T19:37:11.133929",
     "exception": false,
     "start_time": "2021-12-07T19:37:11.022448",
     "status": "completed"
    },
    "tags": []
   },
   "outputs": [
    {
     "data": {
      "text/plain": [
       "{'positive': 0, 'negative': 1}"
      ]
     },
     "execution_count": 7,
     "metadata": {},
     "output_type": "execute_result"
    }
   ],
   "source": [
    "simple_transformer(df.sentiment)"
   ]
  },
  {
   "cell_type": "code",
   "execution_count": 8,
   "id": "f1f63441",
   "metadata": {
    "execution": {
     "iopub.execute_input": "2021-12-07T19:37:11.215630Z",
     "iopub.status.busy": "2021-12-07T19:37:11.214906Z",
     "iopub.status.idle": "2021-12-07T19:37:11.216990Z",
     "shell.execute_reply": "2021-12-07T19:37:11.217539Z",
     "shell.execute_reply.started": "2021-12-07T18:48:13.261922Z"
    },
    "papermill": {
     "duration": 0.046578,
     "end_time": "2021-12-07T19:37:11.217700",
     "exception": false,
     "start_time": "2021-12-07T19:37:11.171122",
     "status": "completed"
    },
    "tags": []
   },
   "outputs": [],
   "source": [
    "X = df.review\n",
    "y = df.sentiment"
   ]
  },
  {
   "cell_type": "code",
   "execution_count": 9,
   "id": "1ba11e7f",
   "metadata": {
    "execution": {
     "iopub.execute_input": "2021-12-07T19:37:11.277102Z",
     "iopub.status.busy": "2021-12-07T19:37:11.276319Z",
     "iopub.status.idle": "2021-12-07T19:37:11.279877Z",
     "shell.execute_reply": "2021-12-07T19:37:11.279461Z",
     "shell.execute_reply.started": "2021-12-07T18:48:13.269959Z"
    },
    "papermill": {
     "duration": 0.030183,
     "end_time": "2021-12-07T19:37:11.279981",
     "exception": false,
     "start_time": "2021-12-07T19:37:11.249798",
     "status": "completed"
    },
    "tags": []
   },
   "outputs": [
    {
     "data": {
      "text/plain": [
       "\"One of the other reviewers has mentioned that after watching just 1 Oz episode you'll be hooked. They are right, as this is exactly what happened with me.<br /><br />The first thing that struck me about Oz was its brutality and unflinching scenes of violence, which set in right from the word GO. Trust me, this is not a show for the faint hearted or timid. This show pulls no punches with regards to drugs, sex or violence. Its is hardcore, in the classic use of the word.<br /><br />It is called OZ as that is the nickname given to the Oswald Maximum Security State Penitentary. It focuses mainly on Emerald City, an experimental section of the prison where all the cells have glass fronts and face inwards, so privacy is not high on the agenda. Em City is home to many..Aryans, Muslims, gangstas, Latinos, Christians, Italians, Irish and more....so scuffles, death stares, dodgy dealings and shady agreements are never far away.<br /><br />I would say the main appeal of the show is due to the fact that it goes where other shows wouldn't dare. Forget pretty pictures painted for mainstream audiences, forget charm, forget romance...OZ doesn't mess around. The first episode I ever saw struck me as so nasty it was surreal, I couldn't say I was ready for it, but as I watched more, I developed a taste for Oz, and got accustomed to the high levels of graphic violence. Not just violence, but injustice (crooked guards who'll be sold out for a nickel, inmates who'll kill on order and get away with it, well mannered, middle class inmates being turned into prison bitches due to their lack of street skills or prison experience) Watching Oz, you may become comfortable with what is uncomfortable viewing....thats if you can get in touch with your darker side.\""
      ]
     },
     "execution_count": 9,
     "metadata": {},
     "output_type": "execute_result"
    }
   ],
   "source": [
    "X[0]"
   ]
  },
  {
   "cell_type": "code",
   "execution_count": 10,
   "id": "f04039f2",
   "metadata": {
    "execution": {
     "iopub.execute_input": "2021-12-07T19:37:11.333102Z",
     "iopub.status.busy": "2021-12-07T19:37:11.332295Z",
     "iopub.status.idle": "2021-12-07T19:37:17.141750Z",
     "shell.execute_reply": "2021-12-07T19:37:17.141191Z",
     "shell.execute_reply.started": "2021-12-07T18:48:13.280289Z"
    },
    "papermill": {
     "duration": 5.837928,
     "end_time": "2021-12-07T19:37:17.141882",
     "exception": false,
     "start_time": "2021-12-07T19:37:11.303954",
     "status": "completed"
    },
    "tags": []
   },
   "outputs": [],
   "source": [
    "import tensorflow as tf\n",
    "from tensorflow.keras.layers import Embedding\n",
    "from tensorflow.keras.preprocessing.sequence import pad_sequences\n",
    "from tensorflow.keras.models import Sequential\n",
    "from tensorflow.keras.preprocessing.text import one_hot\n",
    "from tensorflow.keras.layers import LSTM\n",
    "from tensorflow.keras.layers import Dense\n",
    "import nltk\n",
    "import re\n",
    "from nltk.corpus import stopwords"
   ]
  },
  {
   "cell_type": "code",
   "execution_count": 11,
   "id": "c80ff74a",
   "metadata": {
    "execution": {
     "iopub.execute_input": "2021-12-07T19:37:17.199990Z",
     "iopub.status.busy": "2021-12-07T19:37:17.199338Z",
     "iopub.status.idle": "2021-12-07T19:37:17.272126Z",
     "shell.execute_reply": "2021-12-07T19:37:17.271196Z",
     "shell.execute_reply.started": "2021-12-07T18:48:19.396914Z"
    },
    "papermill": {
     "duration": 0.106814,
     "end_time": "2021-12-07T19:37:17.272282",
     "exception": false,
     "start_time": "2021-12-07T19:37:17.165468",
     "status": "completed"
    },
    "tags": []
   },
   "outputs": [
    {
     "name": "stdout",
     "output_type": "stream",
     "text": [
      "[nltk_data] Downloading package stopwords to /usr/share/nltk_data...\n",
      "[nltk_data]   Package stopwords is already up-to-date!\n"
     ]
    },
    {
     "data": {
      "text/plain": [
       "True"
      ]
     },
     "execution_count": 11,
     "metadata": {},
     "output_type": "execute_result"
    }
   ],
   "source": [
    "## stopwords\n",
    "nltk.download('stopwords')"
   ]
  },
  {
   "cell_type": "markdown",
   "id": "455c106e",
   "metadata": {
    "papermill": {
     "duration": 0.024247,
     "end_time": "2021-12-07T19:37:17.320758",
     "exception": false,
     "start_time": "2021-12-07T19:37:17.296511",
     "status": "completed"
    },
    "tags": []
   },
   "source": [
    "## Lemmatization"
   ]
  },
  {
   "cell_type": "code",
   "execution_count": 12,
   "id": "1a1909cf",
   "metadata": {
    "execution": {
     "iopub.execute_input": "2021-12-07T19:37:17.373561Z",
     "iopub.status.busy": "2021-12-07T19:37:17.372017Z",
     "iopub.status.idle": "2021-12-07T19:37:17.374203Z",
     "shell.execute_reply": "2021-12-07T19:37:17.374647Z",
     "shell.execute_reply.started": "2021-12-07T18:48:19.545585Z"
    },
    "papermill": {
     "duration": 0.029797,
     "end_time": "2021-12-07T19:37:17.374778",
     "exception": false,
     "start_time": "2021-12-07T19:37:17.344981",
     "status": "completed"
    },
    "tags": []
   },
   "outputs": [],
   "source": [
    "from nltk.stem import WordNetLemmatizer"
   ]
  },
  {
   "cell_type": "code",
   "execution_count": 13,
   "id": "28f595f7",
   "metadata": {
    "execution": {
     "iopub.execute_input": "2021-12-07T19:37:17.430370Z",
     "iopub.status.busy": "2021-12-07T19:37:17.429686Z",
     "iopub.status.idle": "2021-12-07T20:00:48.280449Z",
     "shell.execute_reply": "2021-12-07T20:00:48.279904Z",
     "shell.execute_reply.started": "2021-12-07T18:48:19.551566Z"
    },
    "papermill": {
     "duration": 1410.881979,
     "end_time": "2021-12-07T20:00:48.280617",
     "exception": false,
     "start_time": "2021-12-07T19:37:17.398638",
     "status": "completed"
    },
    "tags": []
   },
   "outputs": [],
   "source": [
    "sents = df.review.copy()\n",
    "### Dataset Preprocessing\n",
    "wnl = WordNetLemmatizer()\n",
    "\n",
    "corpus = []\n",
    "for sent in sents:\n",
    "    review = re.sub('[^a-zA-Z]', ' ', sent).lower().split()\n",
    "    review = [wnl.lemmatize(word) for word in review if not word in stopwords.words('english')]\n",
    "    review = ' '.join(review)\n",
    "    corpus.append(review)\n",
    "\n",
    "# # a denotes adjective in \"pos\"\n",
    "# print(\"better :\", wnl.lemmatize(\"better\", pos =\"a\"))"
   ]
  },
  {
   "cell_type": "code",
   "execution_count": 14,
   "id": "679ca5f8",
   "metadata": {
    "execution": {
     "iopub.execute_input": "2021-12-07T20:00:48.333842Z",
     "iopub.status.busy": "2021-12-07T20:00:48.333260Z",
     "iopub.status.idle": "2021-12-07T20:00:48.338858Z",
     "shell.execute_reply": "2021-12-07T20:00:48.338401Z",
     "shell.execute_reply.started": "2021-12-07T19:11:59.055100Z"
    },
    "papermill": {
     "duration": 0.033526,
     "end_time": "2021-12-07T20:00:48.338967",
     "exception": false,
     "start_time": "2021-12-07T20:00:48.305441",
     "status": "completed"
    },
    "tags": []
   },
   "outputs": [
    {
     "data": {
      "text/plain": [
       "'one reviewer mentioned watching oz episode hooked right exactly happened br br first thing struck oz brutality unflinching scene violence set right word go trust show faint hearted timid show pull punch regard drug sex violence hardcore classic use word br br called oz nickname given oswald maximum security state penitentary focus mainly emerald city experimental section prison cell glass front face inwards privacy high agenda em city home many aryan muslim gangsta latino christian italian irish scuffle death stare dodgy dealing shady agreement never far away br br would say main appeal show due fact go show dare forget pretty picture painted mainstream audience forget charm forget romance oz mess around first episode ever saw struck nasty surreal say ready watched developed taste oz got accustomed high level graphic violence violence injustice crooked guard sold nickel inmate kill order get away well mannered middle class inmate turned prison bitch due lack street skill prison experience watching oz may become comfortable uncomfortable viewing thats get touch darker side'"
      ]
     },
     "execution_count": 14,
     "metadata": {},
     "output_type": "execute_result"
    }
   ],
   "source": [
    "corpus[0]"
   ]
  },
  {
   "cell_type": "code",
   "execution_count": 15,
   "id": "bfccb0de",
   "metadata": {
    "execution": {
     "iopub.execute_input": "2021-12-07T20:00:48.409849Z",
     "iopub.status.busy": "2021-12-07T20:00:48.404697Z",
     "iopub.status.idle": "2021-12-07T20:00:51.919231Z",
     "shell.execute_reply": "2021-12-07T20:00:51.919862Z",
     "shell.execute_reply.started": "2021-12-07T19:11:59.062872Z"
    },
    "papermill": {
     "duration": 3.556973,
     "end_time": "2021-12-07T20:00:51.920059",
     "exception": false,
     "start_time": "2021-12-07T20:00:48.363086",
     "status": "completed"
    },
    "tags": []
   },
   "outputs": [
    {
     "name": "stdout",
     "output_type": "stream",
     "text": [
      "[4124, 8439, 8113, 239, 8953, 8228, 154, 3969, 9104, 9296, 3240, 3240, 8805, 8501, 4897, 8953, 8741, 7846, 3122, 3228, 6476, 3969, 9593, 2390, 6257, 1146, 3625, 8559, 1499, 1146, 1189, 7128, 4524, 9371, 4941, 3228, 4617, 5456, 8031, 9593, 3240, 3240, 192, 8953, 5934, 1130, 8219, 9146, 3454, 5620, 3155, 6723, 6394, 9096, 3312, 2292, 2317, 2222, 8058, 9286, 2162, 4320, 8209, 7673, 9972, 7870, 9206, 3312, 2003, 8736, 5590, 2914, 7725, 1218, 7610, 9566, 8410, 3755, 90, 339, 8161, 1612, 5757, 3677, 1600, 2730, 8491, 3240, 3240, 786, 2763, 5504, 7130, 1146, 8112, 1374, 2390, 1146, 2904, 2338, 8330, 5611, 77, 2743, 7434, 2338, 5278, 2338, 3011, 8953, 9650, 5734, 8805, 8228, 1351, 1952, 4897, 4494, 483, 2763, 1408, 2368, 8981, 8349, 8953, 2843, 70, 9972, 9134, 2793, 3228, 3228, 5618, 8520, 4895, 5968, 9523, 2990, 5265, 9724, 7206, 8491, 5015, 2312, 910, 4742, 2990, 7467, 2222, 2816, 8112, 7960, 5264, 7108, 2222, 5480, 239, 8953, 3184, 7738, 8419, 6808, 3723, 7316, 7206, 8862, 7715, 2548]\n"
     ]
    }
   ],
   "source": [
    "### Vocabulary size\n",
    "voc_size = 10000\n",
    "onehot_repr = [one_hot(sent,voc_size) for sent in corpus] \n",
    "print(onehot_repr[0])"
   ]
  },
  {
   "cell_type": "code",
   "execution_count": 16,
   "id": "a2f8f7d8",
   "metadata": {
    "execution": {
     "iopub.execute_input": "2021-12-07T20:00:51.981153Z",
     "iopub.status.busy": "2021-12-07T20:00:51.977684Z",
     "iopub.status.idle": "2021-12-07T20:00:53.206537Z",
     "shell.execute_reply": "2021-12-07T20:00:53.207191Z",
     "shell.execute_reply.started": "2021-12-07T19:12:02.193538Z"
    },
    "papermill": {
     "duration": 1.261698,
     "end_time": "2021-12-07T20:00:53.207359",
     "exception": false,
     "start_time": "2021-12-07T20:00:51.945661",
     "status": "completed"
    },
    "tags": []
   },
   "outputs": [
    {
     "data": {
      "text/plain": [
       "array([4124, 8439, 8113,  239, 8953, 8228,  154, 3969, 9104, 9296, 3240,\n",
       "       3240, 8805, 8501, 4897, 8953, 8741, 7846, 3122, 3228, 6476, 3969,\n",
       "       9593, 2390, 6257, 1146, 3625, 8559, 1499, 1146, 1189, 7128, 4524,\n",
       "       9371, 4941, 3228, 4617, 5456, 8031, 9593, 3240, 3240,  192, 8953,\n",
       "       5934, 1130, 8219, 9146, 3454, 5620, 3155, 6723, 6394, 9096, 3312,\n",
       "       2292, 2317, 2222, 8058, 9286, 2162, 4320, 8209, 7673, 9972, 7870,\n",
       "       9206, 3312, 2003, 8736, 5590, 2914, 7725, 1218, 7610, 9566, 8410,\n",
       "       3755,   90,  339, 8161, 1612, 5757, 3677, 1600, 2730, 8491, 3240,\n",
       "       3240,  786, 2763, 5504, 7130, 1146, 8112, 1374, 2390, 1146, 2904,\n",
       "       2338, 8330, 5611,   77, 2743, 7434, 2338, 5278, 2338, 3011, 8953,\n",
       "       9650, 5734, 8805, 8228, 1351, 1952, 4897, 4494,  483, 2763, 1408,\n",
       "       2368, 8981, 8349, 8953, 2843,   70, 9972, 9134, 2793, 3228, 3228,\n",
       "       5618, 8520, 4895, 5968, 9523, 2990, 5265, 9724, 7206, 8491, 5015,\n",
       "       2312,  910, 4742, 2990, 7467, 2222, 2816, 8112, 7960, 5264, 7108,\n",
       "       2222, 5480,  239, 8953, 3184, 7738, 8419, 6808, 3723, 7316, 7206,\n",
       "       8862, 7715, 2548,    0,    0,    0,    0,    0,    0,    0,    0,\n",
       "          0,    0,    0,    0,    0,    0,    0,    0,    0,    0,    0,\n",
       "          0,    0,    0,    0,    0,    0,    0,    0,    0,    0,    0,\n",
       "          0,    0], dtype=int32)"
      ]
     },
     "execution_count": 16,
     "metadata": {},
     "output_type": "execute_result"
    }
   ],
   "source": [
    "sent_length = 200\n",
    "embedded_docs = pad_sequences(onehot_repr, padding='post', maxlen=sent_length)\n",
    "embedded_docs[0]"
   ]
  },
  {
   "cell_type": "code",
   "execution_count": 17,
   "id": "2fea9b29",
   "metadata": {
    "execution": {
     "iopub.execute_input": "2021-12-07T20:00:53.262246Z",
     "iopub.status.busy": "2021-12-07T20:00:53.261145Z",
     "iopub.status.idle": "2021-12-07T20:00:53.277512Z",
     "shell.execute_reply": "2021-12-07T20:00:53.277085Z",
     "shell.execute_reply.started": "2021-12-07T19:12:03.424876Z"
    },
    "papermill": {
     "duration": 0.045245,
     "end_time": "2021-12-07T20:00:53.277626",
     "exception": false,
     "start_time": "2021-12-07T20:00:53.232381",
     "status": "completed"
    },
    "tags": []
   },
   "outputs": [],
   "source": [
    "import numpy as np\n",
    "X = np.array(embedded_docs)\n",
    "y = np.array(df.sentiment)"
   ]
  },
  {
   "cell_type": "code",
   "execution_count": 18,
   "id": "c29a2e0d",
   "metadata": {
    "execution": {
     "iopub.execute_input": "2021-12-07T20:00:53.334472Z",
     "iopub.status.busy": "2021-12-07T20:00:53.333682Z",
     "iopub.status.idle": "2021-12-07T20:00:53.336601Z",
     "shell.execute_reply": "2021-12-07T20:00:53.337073Z",
     "shell.execute_reply.started": "2021-12-07T19:12:03.448208Z"
    },
    "papermill": {
     "duration": 0.033919,
     "end_time": "2021-12-07T20:00:53.337195",
     "exception": false,
     "start_time": "2021-12-07T20:00:53.303276",
     "status": "completed"
    },
    "tags": []
   },
   "outputs": [
    {
     "data": {
      "text/plain": [
       "((50000, 200), (50000,))"
      ]
     },
     "execution_count": 18,
     "metadata": {},
     "output_type": "execute_result"
    }
   ],
   "source": [
    "X.shape, y.shape"
   ]
  },
  {
   "cell_type": "code",
   "execution_count": 19,
   "id": "f6f28ca3",
   "metadata": {
    "execution": {
     "iopub.execute_input": "2021-12-07T20:00:53.393810Z",
     "iopub.status.busy": "2021-12-07T20:00:53.393003Z",
     "iopub.status.idle": "2021-12-07T20:00:53.486054Z",
     "shell.execute_reply": "2021-12-07T20:00:53.485505Z",
     "shell.execute_reply.started": "2021-12-07T19:12:03.457889Z"
    },
    "papermill": {
     "duration": 0.122746,
     "end_time": "2021-12-07T20:00:53.486181",
     "exception": false,
     "start_time": "2021-12-07T20:00:53.363435",
     "status": "completed"
    },
    "tags": []
   },
   "outputs": [],
   "source": [
    "from sklearn.model_selection import train_test_split\n",
    "X_train, X_val, y_train, y_val = train_test_split(X, y, test_size=0.2, random_state=33, stratify=y)\n",
    "X_train, X_test, y_train, y_test = train_test_split(X_train, y_train, test_size=0.2, random_state=33, stratify=y_train)"
   ]
  },
  {
   "cell_type": "code",
   "execution_count": 20,
   "id": "e81f8e6c",
   "metadata": {
    "execution": {
     "iopub.execute_input": "2021-12-07T20:00:53.546600Z",
     "iopub.status.busy": "2021-12-07T20:00:53.546014Z",
     "iopub.status.idle": "2021-12-07T20:00:56.403690Z",
     "shell.execute_reply": "2021-12-07T20:00:56.404459Z",
     "shell.execute_reply.started": "2021-12-07T19:12:03.558994Z"
    },
    "papermill": {
     "duration": 2.891078,
     "end_time": "2021-12-07T20:00:56.404648",
     "exception": false,
     "start_time": "2021-12-07T20:00:53.513570",
     "status": "completed"
    },
    "tags": []
   },
   "outputs": [
    {
     "name": "stderr",
     "output_type": "stream",
     "text": [
      "2021-12-07 20:00:53.615488: I tensorflow/stream_executor/cuda/cuda_gpu_executor.cc:937] successful NUMA node read from SysFS had negative value (-1), but there must be at least one NUMA node, so returning NUMA node zero\n",
      "2021-12-07 20:00:53.730552: I tensorflow/stream_executor/cuda/cuda_gpu_executor.cc:937] successful NUMA node read from SysFS had negative value (-1), but there must be at least one NUMA node, so returning NUMA node zero\n",
      "2021-12-07 20:00:53.731230: I tensorflow/stream_executor/cuda/cuda_gpu_executor.cc:937] successful NUMA node read from SysFS had negative value (-1), but there must be at least one NUMA node, so returning NUMA node zero\n",
      "2021-12-07 20:00:53.732659: I tensorflow/core/platform/cpu_feature_guard.cc:142] This TensorFlow binary is optimized with oneAPI Deep Neural Network Library (oneDNN) to use the following CPU instructions in performance-critical operations:  AVX2 AVX512F FMA\n",
      "To enable them in other operations, rebuild TensorFlow with the appropriate compiler flags.\n",
      "2021-12-07 20:00:53.733765: I tensorflow/stream_executor/cuda/cuda_gpu_executor.cc:937] successful NUMA node read from SysFS had negative value (-1), but there must be at least one NUMA node, so returning NUMA node zero\n",
      "2021-12-07 20:00:53.734465: I tensorflow/stream_executor/cuda/cuda_gpu_executor.cc:937] successful NUMA node read from SysFS had negative value (-1), but there must be at least one NUMA node, so returning NUMA node zero\n",
      "2021-12-07 20:00:53.735097: I tensorflow/stream_executor/cuda/cuda_gpu_executor.cc:937] successful NUMA node read from SysFS had negative value (-1), but there must be at least one NUMA node, so returning NUMA node zero\n",
      "2021-12-07 20:00:55.525612: I tensorflow/stream_executor/cuda/cuda_gpu_executor.cc:937] successful NUMA node read from SysFS had negative value (-1), but there must be at least one NUMA node, so returning NUMA node zero\n",
      "2021-12-07 20:00:55.526434: I tensorflow/stream_executor/cuda/cuda_gpu_executor.cc:937] successful NUMA node read from SysFS had negative value (-1), but there must be at least one NUMA node, so returning NUMA node zero\n",
      "2021-12-07 20:00:55.527096: I tensorflow/stream_executor/cuda/cuda_gpu_executor.cc:937] successful NUMA node read from SysFS had negative value (-1), but there must be at least one NUMA node, so returning NUMA node zero\n",
      "2021-12-07 20:00:55.527739: I tensorflow/core/common_runtime/gpu/gpu_device.cc:1510] Created device /job:localhost/replica:0/task:0/device:GPU:0 with 15403 MB memory:  -> device: 0, name: Tesla P100-PCIE-16GB, pci bus id: 0000:00:04.0, compute capability: 6.0\n"
     ]
    },
    {
     "name": "stdout",
     "output_type": "stream",
     "text": [
      "Model: \"sequential\"\n",
      "_________________________________________________________________\n",
      "Layer (type)                 Output Shape              Param #   \n",
      "=================================================================\n",
      "embedding (Embedding)        (None, 200, 50)           500000    \n",
      "_________________________________________________________________\n",
      "lstm (LSTM)                  (None, 100)               60400     \n",
      "_________________________________________________________________\n",
      "dense (Dense)                (None, 1)                 101       \n",
      "=================================================================\n",
      "Total params: 560,501\n",
      "Trainable params: 560,501\n",
      "Non-trainable params: 0\n",
      "_________________________________________________________________\n"
     ]
    }
   ],
   "source": [
    "## Creating model\n",
    "embedding_vector_features = 50\n",
    "model = Sequential()\n",
    "model.add(Embedding(voc_size, embedding_vector_features, input_length = sent_length))\n",
    "model.add(LSTM(100))\n",
    "model.add(Dense(1, activation='sigmoid'))\n",
    "model.compile(loss='binary_crossentropy', optimizer='adam', metrics=['accuracy'])\n",
    "model.summary()"
   ]
  },
  {
   "cell_type": "code",
   "execution_count": 21,
   "id": "1f89276d",
   "metadata": {
    "execution": {
     "iopub.execute_input": "2021-12-07T20:00:56.461904Z",
     "iopub.status.busy": "2021-12-07T20:00:56.459637Z",
     "iopub.status.idle": "2021-12-07T20:03:01.055682Z",
     "shell.execute_reply": "2021-12-07T20:03:01.056152Z",
     "shell.execute_reply.started": "2021-12-07T19:12:06.508721Z"
    },
    "papermill": {
     "duration": 124.624606,
     "end_time": "2021-12-07T20:03:01.056318",
     "exception": false,
     "start_time": "2021-12-07T20:00:56.431712",
     "status": "completed"
    },
    "tags": []
   },
   "outputs": [
    {
     "name": "stdout",
     "output_type": "stream",
     "text": [
      "Epoch 1/10\n"
     ]
    },
    {
     "name": "stderr",
     "output_type": "stream",
     "text": [
      "2021-12-07 20:00:56.517285: I tensorflow/compiler/mlir/mlir_graph_optimization_pass.cc:185] None of the MLIR Optimization Passes are enabled (registered 2)\n",
      "2021-12-07 20:00:58.484112: I tensorflow/stream_executor/cuda/cuda_dnn.cc:369] Loaded cuDNN version 8005\n"
     ]
    },
    {
     "name": "stdout",
     "output_type": "stream",
     "text": [
      "1000/1000 [==============================] - 15s 12ms/step - loss: 0.6829 - accuracy: 0.5410 - val_loss: 0.6173 - val_accuracy: 0.6885\n",
      "Epoch 2/10\n",
      "1000/1000 [==============================] - 12s 12ms/step - loss: 0.6701 - accuracy: 0.5540 - val_loss: 0.6604 - val_accuracy: 0.5539\n",
      "Epoch 3/10\n",
      "1000/1000 [==============================] - 12s 12ms/step - loss: 0.6514 - accuracy: 0.5567 - val_loss: 0.6739 - val_accuracy: 0.5313\n",
      "Epoch 4/10\n",
      "1000/1000 [==============================] - 12s 12ms/step - loss: 0.5939 - accuracy: 0.6446 - val_loss: 0.5776 - val_accuracy: 0.7334\n",
      "Epoch 5/10\n",
      "1000/1000 [==============================] - 12s 12ms/step - loss: 0.5280 - accuracy: 0.7115 - val_loss: 0.3978 - val_accuracy: 0.8353\n",
      "Epoch 6/10\n",
      "1000/1000 [==============================] - 12s 12ms/step - loss: 0.2782 - accuracy: 0.8873 - val_loss: 0.3389 - val_accuracy: 0.8640\n",
      "Epoch 7/10\n",
      "1000/1000 [==============================] - 12s 12ms/step - loss: 0.2044 - accuracy: 0.9251 - val_loss: 0.3531 - val_accuracy: 0.8661\n",
      "Epoch 8/10\n",
      "1000/1000 [==============================] - 13s 13ms/step - loss: 0.1517 - accuracy: 0.9474 - val_loss: 0.3818 - val_accuracy: 0.8608\n",
      "Epoch 9/10\n",
      "1000/1000 [==============================] - 12s 12ms/step - loss: 0.1102 - accuracy: 0.9658 - val_loss: 0.4271 - val_accuracy: 0.8567\n",
      "Epoch 10/10\n",
      "1000/1000 [==============================] - 12s 12ms/step - loss: 0.0823 - accuracy: 0.9776 - val_loss: 0.4873 - val_accuracy: 0.8556\n"
     ]
    }
   ],
   "source": [
    "history = model.fit(X_train, y_train, validation_data=(X_val, y_val), epochs=10, batch_size=32);"
   ]
  },
  {
   "cell_type": "markdown",
   "id": "480e0a86",
   "metadata": {
    "papermill": {
     "duration": 0.819217,
     "end_time": "2021-12-07T20:03:02.431175",
     "exception": false,
     "start_time": "2021-12-07T20:03:01.611958",
     "status": "completed"
    },
    "tags": []
   },
   "source": [
    "## Accuracy"
   ]
  },
  {
   "cell_type": "code",
   "execution_count": 22,
   "id": "5b50f356",
   "metadata": {
    "execution": {
     "iopub.execute_input": "2021-12-07T20:03:03.516398Z",
     "iopub.status.busy": "2021-12-07T20:03:03.515475Z",
     "iopub.status.idle": "2021-12-07T20:03:05.171041Z",
     "shell.execute_reply": "2021-12-07T20:03:05.171503Z",
     "shell.execute_reply.started": "2021-12-07T19:14:29.719960Z"
    },
    "papermill": {
     "duration": 2.200086,
     "end_time": "2021-12-07T20:03:05.171664",
     "exception": false,
     "start_time": "2021-12-07T20:03:02.971578",
     "status": "completed"
    },
    "tags": []
   },
   "outputs": [
    {
     "name": "stdout",
     "output_type": "stream",
     "text": [
      "313/313 [==============================] - 2s 5ms/step - loss: 0.4873 - accuracy: 0.8556\n"
     ]
    },
    {
     "data": {
      "text/plain": [
       "[0.4873413145542145, 0.8555999994277954]"
      ]
     },
     "execution_count": 22,
     "metadata": {},
     "output_type": "execute_result"
    }
   ],
   "source": [
    "model.evaluate(X_val, y_val)"
   ]
  },
  {
   "cell_type": "markdown",
   "id": "2934353f",
   "metadata": {
    "papermill": {
     "duration": 0.551083,
     "end_time": "2021-12-07T20:03:06.270744",
     "exception": false,
     "start_time": "2021-12-07T20:03:05.719661",
     "status": "completed"
    },
    "tags": []
   },
   "source": [
    "## Accuracy evaluation"
   ]
  },
  {
   "cell_type": "code",
   "execution_count": 23,
   "id": "26a6c570",
   "metadata": {
    "execution": {
     "iopub.execute_input": "2021-12-07T20:03:07.426534Z",
     "iopub.status.busy": "2021-12-07T20:03:07.425710Z",
     "iopub.status.idle": "2021-12-07T20:03:07.427571Z",
     "shell.execute_reply": "2021-12-07T20:03:07.427978Z",
     "shell.execute_reply.started": "2021-12-07T19:14:31.411923Z"
    },
    "papermill": {
     "duration": 0.592075,
     "end_time": "2021-12-07T20:03:07.428103",
     "exception": false,
     "start_time": "2021-12-07T20:03:06.836028",
     "status": "completed"
    },
    "tags": []
   },
   "outputs": [],
   "source": [
    "import matplotlib.pyplot as plt"
   ]
  },
  {
   "cell_type": "code",
   "execution_count": 24,
   "id": "25499a5d",
   "metadata": {
    "execution": {
     "iopub.execute_input": "2021-12-07T20:03:08.551106Z",
     "iopub.status.busy": "2021-12-07T20:03:08.550484Z",
     "iopub.status.idle": "2021-12-07T20:03:08.757144Z",
     "shell.execute_reply": "2021-12-07T20:03:08.757542Z",
     "shell.execute_reply.started": "2021-12-07T19:14:31.419556Z"
    },
    "papermill": {
     "duration": 0.779396,
     "end_time": "2021-12-07T20:03:08.757690",
     "exception": false,
     "start_time": "2021-12-07T20:03:07.978294",
     "status": "completed"
    },
    "tags": []
   },
   "outputs": [
    {
     "data": {
      "image/png": "[encoded data removed]",
      "text/plain": [
       "<Figure size 432x288 with 1 Axes>"
      ]
     },
     "metadata": {
      "needs_background": "light"
     },
     "output_type": "display_data"
    }
   ],
   "source": [
    "plt.plot(history.history['accuracy'], label='Train Acc')\n",
    "plt.plot(history.history['val_accuracy'], label='Val Acc')\n",
    "plt.xlabel('Number Of Epochs')\n",
    "plt.ylabel('Accuracy %')\n",
    "plt.title('Accuracy Evaluation')\n",
    "plt.legend()\n",
    "plt.show()"
   ]
  },
  {
   "cell_type": "markdown",
   "id": "018a8fd6",
   "metadata": {
    "papermill": {
     "duration": 0.548464,
     "end_time": "2021-12-07T20:03:09.858575",
     "exception": false,
     "start_time": "2021-12-07T20:03:09.310111",
     "status": "completed"
    },
    "tags": []
   },
   "source": [
    "## Loss history evaluation"
   ]
  },
  {
   "cell_type": "code",
   "execution_count": 25,
   "id": "0ec9013c",
   "metadata": {
    "execution": {
     "iopub.execute_input": "2021-12-07T20:03:10.983196Z",
     "iopub.status.busy": "2021-12-07T20:03:10.982267Z",
     "iopub.status.idle": "2021-12-07T20:03:11.159039Z",
     "shell.execute_reply": "2021-12-07T20:03:11.159575Z",
     "shell.execute_reply.started": "2021-12-07T19:14:31.645048Z"
    },
    "papermill": {
     "duration": 0.75054,
     "end_time": "2021-12-07T20:03:11.159742",
     "exception": false,
     "start_time": "2021-12-07T20:03:10.409202",
     "status": "completed"
    },
    "tags": []
   },
   "outputs": [
    {
     "data": {
      "image/png": "[encoded data removed]",
      "text/plain": [
       "<Figure size 432x288 with 1 Axes>"
      ]
     },
     "metadata": {
      "needs_background": "light"
     },
     "output_type": "display_data"
    }
   ],
   "source": [
    "plt.plot(history.history['loss'])\n",
    "plt.plot(history.history['val_loss'])\n",
    "plt.title('Loss Evaluation')\n",
    "plt.ylabel('Loss %')\n",
    "plt.xlabel('Number Of Epochs')\n",
    "plt.legend(['Train Loss', 'Val Loss'], loc='lower left')\n",
    "plt.show()"
   ]
  },
  {
   "cell_type": "markdown",
   "id": "9c525195",
   "metadata": {
    "papermill": {
     "duration": 0.552883,
     "end_time": "2021-12-07T20:03:12.267708",
     "exception": false,
     "start_time": "2021-12-07T20:03:11.714825",
     "status": "completed"
    },
    "tags": []
   },
   "source": [
    "## Test Data"
   ]
  },
  {
   "cell_type": "code",
   "execution_count": 26,
   "id": "57be137c",
   "metadata": {
    "execution": {
     "iopub.execute_input": "2021-12-07T20:03:13.699432Z",
     "iopub.status.busy": "2021-12-07T20:03:13.698379Z",
     "iopub.status.idle": "2021-12-07T20:03:16.708843Z",
     "shell.execute_reply": "2021-12-07T20:03:16.708280Z",
     "shell.execute_reply.started": "2021-12-07T19:14:31.840951Z"
    },
    "papermill": {
     "duration": 3.723837,
     "end_time": "2021-12-07T20:03:16.708971",
     "exception": false,
     "start_time": "2021-12-07T20:03:12.985134",
     "status": "completed"
    },
    "tags": []
   },
   "outputs": [
    {
     "name": "stdout",
     "output_type": "stream",
     "text": [
      "250/250 [==============================] - 2s 6ms/step - loss: 0.4837 - accuracy: 0.8553\n"
     ]
    },
    {
     "data": {
      "text/plain": [
       "[0.48365098237991333, 0.8552500009536743]"
      ]
     },
     "execution_count": 26,
     "metadata": {},
     "output_type": "execute_result"
    }
   ],
   "source": [
    "model.evaluate(X_test, y_test)"
   ]
  },
  {
   "cell_type": "code",
   "execution_count": 27,
   "id": "a61fab3b",
   "metadata": {
    "execution": {
     "iopub.execute_input": "2021-12-07T20:03:17.829684Z",
     "iopub.status.busy": "2021-12-07T20:03:17.829012Z",
     "iopub.status.idle": "2021-12-07T20:03:17.953877Z",
     "shell.execute_reply": "2021-12-07T20:03:17.953225Z",
     "shell.execute_reply.started": "2021-12-07T19:14:33.409788Z"
    },
    "papermill": {
     "duration": 0.685999,
     "end_time": "2021-12-07T20:03:17.954005",
     "exception": false,
     "start_time": "2021-12-07T20:03:17.268006",
     "status": "completed"
    },
    "tags": []
   },
   "outputs": [],
   "source": [
    "from sklearn.metrics import confusion_matrix\n",
    "import matplotlib.pyplot as plt\n",
    "import seaborn as sns"
   ]
  },
  {
   "cell_type": "code",
   "execution_count": 28,
   "id": "e0294ed4",
   "metadata": {
    "execution": {
     "iopub.execute_input": "2021-12-07T20:03:19.122897Z",
     "iopub.status.busy": "2021-12-07T20:03:19.121936Z",
     "iopub.status.idle": "2021-12-07T20:03:20.593218Z",
     "shell.execute_reply": "2021-12-07T20:03:20.593625Z",
     "shell.execute_reply.started": "2021-12-07T19:14:33.535123Z"
    },
    "papermill": {
     "duration": 2.055392,
     "end_time": "2021-12-07T20:03:20.593776",
     "exception": false,
     "start_time": "2021-12-07T20:03:18.538384",
     "status": "completed"
    },
    "tags": []
   },
   "outputs": [
    {
     "data": {
      "image/png": "[encoded data removed]",
      "text/plain": [
       "<Figure size 288x216 with 2 Axes>"
      ]
     },
     "metadata": {
      "needs_background": "light"
     },
     "output_type": "display_data"
    }
   ],
   "source": [
    "y_pred = model.predict(X_test)\n",
    "y_pred = [1 if x>.5 else 0 for x in y_pred]\n",
    "cm = confusion_matrix(y_test, y_pred)\n",
    "plt.figure(figsize = (4,3))\n",
    "sns.heatmap(cm, annot=True,fmt=\"d\",cmap='Blues');"
   ]
  },
  {
   "cell_type": "code",
   "execution_count": null,
   "id": "b975a411",
   "metadata": {
    "papermill": {
     "duration": 0.561283,
     "end_time": "2021-12-07T20:03:21.721935",
     "exception": false,
     "start_time": "2021-12-07T20:03:21.160652",
     "status": "completed"
    },
    "tags": []
   },
   "outputs": [],
   "source": []
  }
 ],
 "metadata": {
  "kernelspec": {
   "display_name": "Python 3",
   "language": "python",
   "name": "python3"
  },
  "language_info": {
   "codemirror_mode": {
    "name": "ipython",
    "version": 3
   },
   "file_extension": ".py",
   "mimetype": "text/x-python",
   "name": "python",
   "nbconvert_exporter": "python",
   "pygments_lexer": "ipython3",
   "version": "3.7.10"
  },
  "papermill": {
   "default_parameters": {},
   "duration": 1584.138392,
   "end_time": "2021-12-07T20:03:25.065839",
   "environment_variables": {},
   "exception": null,
   "input_path": "__notebook__.ipynb",
   "output_path": "__notebook__.ipynb",
   "parameters": {},
   "start_time": "2021-12-07T19:37:00.927447",
   "version": "2.3.3"
  }
 },
 "nbformat": 4,
 "nbformat_minor": 5
}
